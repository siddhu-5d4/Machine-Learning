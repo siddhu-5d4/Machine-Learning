{
  "nbformat": 4,
  "nbformat_minor": 0,
  "metadata": {
    "colab": {
      "provenance": [],
      "authorship_tag": "ABX9TyPXn+au5yBhLDkBrvcs6nMQ",
      "include_colab_link": true
    },
    "kernelspec": {
      "name": "python3",
      "display_name": "Python 3"
    },
    "language_info": {
      "name": "python"
    }
  },
  "cells": [
    {
      "cell_type": "markdown",
      "metadata": {
        "id": "view-in-github",
        "colab_type": "text"
      },
      "source": [
        "<a href=\"https://colab.research.google.com/github/siddhu-5d4/Machine-Learning/blob/main/logistic_penguins.ipynb\" target=\"_parent\"><img src=\"https://colab.research.google.com/assets/colab-badge.svg\" alt=\"Open In Colab\"/></a>"
      ]
    },
    {
      "cell_type": "code",
      "execution_count": 1,
      "metadata": {
        "id": "yDIxSnqIJZ9-"
      },
      "outputs": [],
      "source": [
        "import pandas as pd\n",
        "import numpy as np\n",
        "import matplotlib.pyplot as plt\n",
        "from sklearn.linear_model import LogisticRegression\n",
        "from sklearn.metrics import classification_report,confusion_matrix"
      ]
    },
    {
      "cell_type": "code",
      "source": [
        "data=pd.read_csv('penguins.csv')"
      ],
      "metadata": {
        "id": "FloOtBDYLTFh"
      },
      "execution_count": 2,
      "outputs": []
    },
    {
      "cell_type": "code",
      "source": [
        "data.describe()"
      ],
      "metadata": {
        "colab": {
          "base_uri": "https://localhost:8080/",
          "height": 300
        },
        "id": "w9bFbVitLtir",
        "outputId": "2f043ee3-422e-4a38-a2fd-aa79363413e6"
      },
      "execution_count": 3,
      "outputs": [
        {
          "output_type": "execute_result",
          "data": {
            "text/plain": [
              "            rowid  bill_length_mm  bill_depth_mm  flipper_length_mm  \\\n",
              "count  344.000000      342.000000     342.000000         342.000000   \n",
              "mean   172.500000       43.921930      17.151170         200.915205   \n",
              "std     99.448479        5.459584       1.974793          14.061714   \n",
              "min      1.000000       32.100000      13.100000         172.000000   \n",
              "25%     86.750000       39.225000      15.600000         190.000000   \n",
              "50%    172.500000       44.450000      17.300000         197.000000   \n",
              "75%    258.250000       48.500000      18.700000         213.000000   \n",
              "max    344.000000       59.600000      21.500000         231.000000   \n",
              "\n",
              "       body_mass_g         year  \n",
              "count   342.000000   344.000000  \n",
              "mean   4201.754386  2008.029070  \n",
              "std     801.954536     0.818356  \n",
              "min    2700.000000  2007.000000  \n",
              "25%    3550.000000  2007.000000  \n",
              "50%    4050.000000  2008.000000  \n",
              "75%    4750.000000  2009.000000  \n",
              "max    6300.000000  2009.000000  "
            ],
            "text/html": [
              "\n",
              "  <div id=\"df-d4079a86-69c1-4caa-a327-92c4853ba24e\">\n",
              "    <div class=\"colab-df-container\">\n",
              "      <div>\n",
              "<style scoped>\n",
              "    .dataframe tbody tr th:only-of-type {\n",
              "        vertical-align: middle;\n",
              "    }\n",
              "\n",
              "    .dataframe tbody tr th {\n",
              "        vertical-align: top;\n",
              "    }\n",
              "\n",
              "    .dataframe thead th {\n",
              "        text-align: right;\n",
              "    }\n",
              "</style>\n",
              "<table border=\"1\" class=\"dataframe\">\n",
              "  <thead>\n",
              "    <tr style=\"text-align: right;\">\n",
              "      <th></th>\n",
              "      <th>rowid</th>\n",
              "      <th>bill_length_mm</th>\n",
              "      <th>bill_depth_mm</th>\n",
              "      <th>flipper_length_mm</th>\n",
              "      <th>body_mass_g</th>\n",
              "      <th>year</th>\n",
              "    </tr>\n",
              "  </thead>\n",
              "  <tbody>\n",
              "    <tr>\n",
              "      <th>count</th>\n",
              "      <td>344.000000</td>\n",
              "      <td>342.000000</td>\n",
              "      <td>342.000000</td>\n",
              "      <td>342.000000</td>\n",
              "      <td>342.000000</td>\n",
              "      <td>344.000000</td>\n",
              "    </tr>\n",
              "    <tr>\n",
              "      <th>mean</th>\n",
              "      <td>172.500000</td>\n",
              "      <td>43.921930</td>\n",
              "      <td>17.151170</td>\n",
              "      <td>200.915205</td>\n",
              "      <td>4201.754386</td>\n",
              "      <td>2008.029070</td>\n",
              "    </tr>\n",
              "    <tr>\n",
              "      <th>std</th>\n",
              "      <td>99.448479</td>\n",
              "      <td>5.459584</td>\n",
              "      <td>1.974793</td>\n",
              "      <td>14.061714</td>\n",
              "      <td>801.954536</td>\n",
              "      <td>0.818356</td>\n",
              "    </tr>\n",
              "    <tr>\n",
              "      <th>min</th>\n",
              "      <td>1.000000</td>\n",
              "      <td>32.100000</td>\n",
              "      <td>13.100000</td>\n",
              "      <td>172.000000</td>\n",
              "      <td>2700.000000</td>\n",
              "      <td>2007.000000</td>\n",
              "    </tr>\n",
              "    <tr>\n",
              "      <th>25%</th>\n",
              "      <td>86.750000</td>\n",
              "      <td>39.225000</td>\n",
              "      <td>15.600000</td>\n",
              "      <td>190.000000</td>\n",
              "      <td>3550.000000</td>\n",
              "      <td>2007.000000</td>\n",
              "    </tr>\n",
              "    <tr>\n",
              "      <th>50%</th>\n",
              "      <td>172.500000</td>\n",
              "      <td>44.450000</td>\n",
              "      <td>17.300000</td>\n",
              "      <td>197.000000</td>\n",
              "      <td>4050.000000</td>\n",
              "      <td>2008.000000</td>\n",
              "    </tr>\n",
              "    <tr>\n",
              "      <th>75%</th>\n",
              "      <td>258.250000</td>\n",
              "      <td>48.500000</td>\n",
              "      <td>18.700000</td>\n",
              "      <td>213.000000</td>\n",
              "      <td>4750.000000</td>\n",
              "      <td>2009.000000</td>\n",
              "    </tr>\n",
              "    <tr>\n",
              "      <th>max</th>\n",
              "      <td>344.000000</td>\n",
              "      <td>59.600000</td>\n",
              "      <td>21.500000</td>\n",
              "      <td>231.000000</td>\n",
              "      <td>6300.000000</td>\n",
              "      <td>2009.000000</td>\n",
              "    </tr>\n",
              "  </tbody>\n",
              "</table>\n",
              "</div>\n",
              "      <button class=\"colab-df-convert\" onclick=\"convertToInteractive('df-d4079a86-69c1-4caa-a327-92c4853ba24e')\"\n",
              "              title=\"Convert this dataframe to an interactive table.\"\n",
              "              style=\"display:none;\">\n",
              "        \n",
              "  <svg xmlns=\"http://www.w3.org/2000/svg\" height=\"24px\"viewBox=\"0 0 24 24\"\n",
              "       width=\"24px\">\n",
              "    <path d=\"M0 0h24v24H0V0z\" fill=\"none\"/>\n",
              "    <path d=\"M18.56 5.44l.94 2.06.94-2.06 2.06-.94-2.06-.94-.94-2.06-.94 2.06-2.06.94zm-11 1L8.5 8.5l.94-2.06 2.06-.94-2.06-.94L8.5 2.5l-.94 2.06-2.06.94zm10 10l.94 2.06.94-2.06 2.06-.94-2.06-.94-.94-2.06-.94 2.06-2.06.94z\"/><path d=\"M17.41 7.96l-1.37-1.37c-.4-.4-.92-.59-1.43-.59-.52 0-1.04.2-1.43.59L10.3 9.45l-7.72 7.72c-.78.78-.78 2.05 0 2.83L4 21.41c.39.39.9.59 1.41.59.51 0 1.02-.2 1.41-.59l7.78-7.78 2.81-2.81c.8-.78.8-2.07 0-2.86zM5.41 20L4 18.59l7.72-7.72 1.47 1.35L5.41 20z\"/>\n",
              "  </svg>\n",
              "      </button>\n",
              "      \n",
              "  <style>\n",
              "    .colab-df-container {\n",
              "      display:flex;\n",
              "      flex-wrap:wrap;\n",
              "      gap: 12px;\n",
              "    }\n",
              "\n",
              "    .colab-df-convert {\n",
              "      background-color: #E8F0FE;\n",
              "      border: none;\n",
              "      border-radius: 50%;\n",
              "      cursor: pointer;\n",
              "      display: none;\n",
              "      fill: #1967D2;\n",
              "      height: 32px;\n",
              "      padding: 0 0 0 0;\n",
              "      width: 32px;\n",
              "    }\n",
              "\n",
              "    .colab-df-convert:hover {\n",
              "      background-color: #E2EBFA;\n",
              "      box-shadow: 0px 1px 2px rgba(60, 64, 67, 0.3), 0px 1px 3px 1px rgba(60, 64, 67, 0.15);\n",
              "      fill: #174EA6;\n",
              "    }\n",
              "\n",
              "    [theme=dark] .colab-df-convert {\n",
              "      background-color: #3B4455;\n",
              "      fill: #D2E3FC;\n",
              "    }\n",
              "\n",
              "    [theme=dark] .colab-df-convert:hover {\n",
              "      background-color: #434B5C;\n",
              "      box-shadow: 0px 1px 3px 1px rgba(0, 0, 0, 0.15);\n",
              "      filter: drop-shadow(0px 1px 2px rgba(0, 0, 0, 0.3));\n",
              "      fill: #FFFFFF;\n",
              "    }\n",
              "  </style>\n",
              "\n",
              "      <script>\n",
              "        const buttonEl =\n",
              "          document.querySelector('#df-d4079a86-69c1-4caa-a327-92c4853ba24e button.colab-df-convert');\n",
              "        buttonEl.style.display =\n",
              "          google.colab.kernel.accessAllowed ? 'block' : 'none';\n",
              "\n",
              "        async function convertToInteractive(key) {\n",
              "          const element = document.querySelector('#df-d4079a86-69c1-4caa-a327-92c4853ba24e');\n",
              "          const dataTable =\n",
              "            await google.colab.kernel.invokeFunction('convertToInteractive',\n",
              "                                                     [key], {});\n",
              "          if (!dataTable) return;\n",
              "\n",
              "          const docLinkHtml = 'Like what you see? Visit the ' +\n",
              "            '<a target=\"_blank\" href=https://colab.research.google.com/notebooks/data_table.ipynb>data table notebook</a>'\n",
              "            + ' to learn more about interactive tables.';\n",
              "          element.innerHTML = '';\n",
              "          dataTable['output_type'] = 'display_data';\n",
              "          await google.colab.output.renderOutput(dataTable, element);\n",
              "          const docLink = document.createElement('div');\n",
              "          docLink.innerHTML = docLinkHtml;\n",
              "          element.appendChild(docLink);\n",
              "        }\n",
              "      </script>\n",
              "    </div>\n",
              "  </div>\n",
              "  "
            ]
          },
          "metadata": {},
          "execution_count": 3
        }
      ]
    },
    {
      "cell_type": "code",
      "source": [
        "data.isnull()"
      ],
      "metadata": {
        "colab": {
          "base_uri": "https://localhost:8080/",
          "height": 423
        },
        "id": "1OLxz0O2L0_G",
        "outputId": "88ca6eb0-17f9-4ec2-ef3e-d600a6c125b8"
      },
      "execution_count": 4,
      "outputs": [
        {
          "output_type": "execute_result",
          "data": {
            "text/plain": [
              "     rowid  species  island  bill_length_mm  bill_depth_mm  flipper_length_mm  \\\n",
              "0    False    False   False           False          False              False   \n",
              "1    False    False   False           False          False              False   \n",
              "2    False    False   False           False          False              False   \n",
              "3    False    False   False            True           True               True   \n",
              "4    False    False   False           False          False              False   \n",
              "..     ...      ...     ...             ...            ...                ...   \n",
              "339  False    False   False           False          False              False   \n",
              "340  False    False   False           False          False              False   \n",
              "341  False    False   False           False          False              False   \n",
              "342  False    False   False           False          False              False   \n",
              "343  False    False   False           False          False              False   \n",
              "\n",
              "     body_mass_g    sex   year  \n",
              "0          False  False  False  \n",
              "1          False  False  False  \n",
              "2          False  False  False  \n",
              "3           True   True  False  \n",
              "4          False  False  False  \n",
              "..           ...    ...    ...  \n",
              "339        False  False  False  \n",
              "340        False  False  False  \n",
              "341        False  False  False  \n",
              "342        False  False  False  \n",
              "343        False  False  False  \n",
              "\n",
              "[344 rows x 9 columns]"
            ],
            "text/html": [
              "\n",
              "  <div id=\"df-b5c67639-0190-4f04-a1d1-beecdfaf07e3\">\n",
              "    <div class=\"colab-df-container\">\n",
              "      <div>\n",
              "<style scoped>\n",
              "    .dataframe tbody tr th:only-of-type {\n",
              "        vertical-align: middle;\n",
              "    }\n",
              "\n",
              "    .dataframe tbody tr th {\n",
              "        vertical-align: top;\n",
              "    }\n",
              "\n",
              "    .dataframe thead th {\n",
              "        text-align: right;\n",
              "    }\n",
              "</style>\n",
              "<table border=\"1\" class=\"dataframe\">\n",
              "  <thead>\n",
              "    <tr style=\"text-align: right;\">\n",
              "      <th></th>\n",
              "      <th>rowid</th>\n",
              "      <th>species</th>\n",
              "      <th>island</th>\n",
              "      <th>bill_length_mm</th>\n",
              "      <th>bill_depth_mm</th>\n",
              "      <th>flipper_length_mm</th>\n",
              "      <th>body_mass_g</th>\n",
              "      <th>sex</th>\n",
              "      <th>year</th>\n",
              "    </tr>\n",
              "  </thead>\n",
              "  <tbody>\n",
              "    <tr>\n",
              "      <th>0</th>\n",
              "      <td>False</td>\n",
              "      <td>False</td>\n",
              "      <td>False</td>\n",
              "      <td>False</td>\n",
              "      <td>False</td>\n",
              "      <td>False</td>\n",
              "      <td>False</td>\n",
              "      <td>False</td>\n",
              "      <td>False</td>\n",
              "    </tr>\n",
              "    <tr>\n",
              "      <th>1</th>\n",
              "      <td>False</td>\n",
              "      <td>False</td>\n",
              "      <td>False</td>\n",
              "      <td>False</td>\n",
              "      <td>False</td>\n",
              "      <td>False</td>\n",
              "      <td>False</td>\n",
              "      <td>False</td>\n",
              "      <td>False</td>\n",
              "    </tr>\n",
              "    <tr>\n",
              "      <th>2</th>\n",
              "      <td>False</td>\n",
              "      <td>False</td>\n",
              "      <td>False</td>\n",
              "      <td>False</td>\n",
              "      <td>False</td>\n",
              "      <td>False</td>\n",
              "      <td>False</td>\n",
              "      <td>False</td>\n",
              "      <td>False</td>\n",
              "    </tr>\n",
              "    <tr>\n",
              "      <th>3</th>\n",
              "      <td>False</td>\n",
              "      <td>False</td>\n",
              "      <td>False</td>\n",
              "      <td>True</td>\n",
              "      <td>True</td>\n",
              "      <td>True</td>\n",
              "      <td>True</td>\n",
              "      <td>True</td>\n",
              "      <td>False</td>\n",
              "    </tr>\n",
              "    <tr>\n",
              "      <th>4</th>\n",
              "      <td>False</td>\n",
              "      <td>False</td>\n",
              "      <td>False</td>\n",
              "      <td>False</td>\n",
              "      <td>False</td>\n",
              "      <td>False</td>\n",
              "      <td>False</td>\n",
              "      <td>False</td>\n",
              "      <td>False</td>\n",
              "    </tr>\n",
              "    <tr>\n",
              "      <th>...</th>\n",
              "      <td>...</td>\n",
              "      <td>...</td>\n",
              "      <td>...</td>\n",
              "      <td>...</td>\n",
              "      <td>...</td>\n",
              "      <td>...</td>\n",
              "      <td>...</td>\n",
              "      <td>...</td>\n",
              "      <td>...</td>\n",
              "    </tr>\n",
              "    <tr>\n",
              "      <th>339</th>\n",
              "      <td>False</td>\n",
              "      <td>False</td>\n",
              "      <td>False</td>\n",
              "      <td>False</td>\n",
              "      <td>False</td>\n",
              "      <td>False</td>\n",
              "      <td>False</td>\n",
              "      <td>False</td>\n",
              "      <td>False</td>\n",
              "    </tr>\n",
              "    <tr>\n",
              "      <th>340</th>\n",
              "      <td>False</td>\n",
              "      <td>False</td>\n",
              "      <td>False</td>\n",
              "      <td>False</td>\n",
              "      <td>False</td>\n",
              "      <td>False</td>\n",
              "      <td>False</td>\n",
              "      <td>False</td>\n",
              "      <td>False</td>\n",
              "    </tr>\n",
              "    <tr>\n",
              "      <th>341</th>\n",
              "      <td>False</td>\n",
              "      <td>False</td>\n",
              "      <td>False</td>\n",
              "      <td>False</td>\n",
              "      <td>False</td>\n",
              "      <td>False</td>\n",
              "      <td>False</td>\n",
              "      <td>False</td>\n",
              "      <td>False</td>\n",
              "    </tr>\n",
              "    <tr>\n",
              "      <th>342</th>\n",
              "      <td>False</td>\n",
              "      <td>False</td>\n",
              "      <td>False</td>\n",
              "      <td>False</td>\n",
              "      <td>False</td>\n",
              "      <td>False</td>\n",
              "      <td>False</td>\n",
              "      <td>False</td>\n",
              "      <td>False</td>\n",
              "    </tr>\n",
              "    <tr>\n",
              "      <th>343</th>\n",
              "      <td>False</td>\n",
              "      <td>False</td>\n",
              "      <td>False</td>\n",
              "      <td>False</td>\n",
              "      <td>False</td>\n",
              "      <td>False</td>\n",
              "      <td>False</td>\n",
              "      <td>False</td>\n",
              "      <td>False</td>\n",
              "    </tr>\n",
              "  </tbody>\n",
              "</table>\n",
              "<p>344 rows × 9 columns</p>\n",
              "</div>\n",
              "      <button class=\"colab-df-convert\" onclick=\"convertToInteractive('df-b5c67639-0190-4f04-a1d1-beecdfaf07e3')\"\n",
              "              title=\"Convert this dataframe to an interactive table.\"\n",
              "              style=\"display:none;\">\n",
              "        \n",
              "  <svg xmlns=\"http://www.w3.org/2000/svg\" height=\"24px\"viewBox=\"0 0 24 24\"\n",
              "       width=\"24px\">\n",
              "    <path d=\"M0 0h24v24H0V0z\" fill=\"none\"/>\n",
              "    <path d=\"M18.56 5.44l.94 2.06.94-2.06 2.06-.94-2.06-.94-.94-2.06-.94 2.06-2.06.94zm-11 1L8.5 8.5l.94-2.06 2.06-.94-2.06-.94L8.5 2.5l-.94 2.06-2.06.94zm10 10l.94 2.06.94-2.06 2.06-.94-2.06-.94-.94-2.06-.94 2.06-2.06.94z\"/><path d=\"M17.41 7.96l-1.37-1.37c-.4-.4-.92-.59-1.43-.59-.52 0-1.04.2-1.43.59L10.3 9.45l-7.72 7.72c-.78.78-.78 2.05 0 2.83L4 21.41c.39.39.9.59 1.41.59.51 0 1.02-.2 1.41-.59l7.78-7.78 2.81-2.81c.8-.78.8-2.07 0-2.86zM5.41 20L4 18.59l7.72-7.72 1.47 1.35L5.41 20z\"/>\n",
              "  </svg>\n",
              "      </button>\n",
              "      \n",
              "  <style>\n",
              "    .colab-df-container {\n",
              "      display:flex;\n",
              "      flex-wrap:wrap;\n",
              "      gap: 12px;\n",
              "    }\n",
              "\n",
              "    .colab-df-convert {\n",
              "      background-color: #E8F0FE;\n",
              "      border: none;\n",
              "      border-radius: 50%;\n",
              "      cursor: pointer;\n",
              "      display: none;\n",
              "      fill: #1967D2;\n",
              "      height: 32px;\n",
              "      padding: 0 0 0 0;\n",
              "      width: 32px;\n",
              "    }\n",
              "\n",
              "    .colab-df-convert:hover {\n",
              "      background-color: #E2EBFA;\n",
              "      box-shadow: 0px 1px 2px rgba(60, 64, 67, 0.3), 0px 1px 3px 1px rgba(60, 64, 67, 0.15);\n",
              "      fill: #174EA6;\n",
              "    }\n",
              "\n",
              "    [theme=dark] .colab-df-convert {\n",
              "      background-color: #3B4455;\n",
              "      fill: #D2E3FC;\n",
              "    }\n",
              "\n",
              "    [theme=dark] .colab-df-convert:hover {\n",
              "      background-color: #434B5C;\n",
              "      box-shadow: 0px 1px 3px 1px rgba(0, 0, 0, 0.15);\n",
              "      filter: drop-shadow(0px 1px 2px rgba(0, 0, 0, 0.3));\n",
              "      fill: #FFFFFF;\n",
              "    }\n",
              "  </style>\n",
              "\n",
              "      <script>\n",
              "        const buttonEl =\n",
              "          document.querySelector('#df-b5c67639-0190-4f04-a1d1-beecdfaf07e3 button.colab-df-convert');\n",
              "        buttonEl.style.display =\n",
              "          google.colab.kernel.accessAllowed ? 'block' : 'none';\n",
              "\n",
              "        async function convertToInteractive(key) {\n",
              "          const element = document.querySelector('#df-b5c67639-0190-4f04-a1d1-beecdfaf07e3');\n",
              "          const dataTable =\n",
              "            await google.colab.kernel.invokeFunction('convertToInteractive',\n",
              "                                                     [key], {});\n",
              "          if (!dataTable) return;\n",
              "\n",
              "          const docLinkHtml = 'Like what you see? Visit the ' +\n",
              "            '<a target=\"_blank\" href=https://colab.research.google.com/notebooks/data_table.ipynb>data table notebook</a>'\n",
              "            + ' to learn more about interactive tables.';\n",
              "          element.innerHTML = '';\n",
              "          dataTable['output_type'] = 'display_data';\n",
              "          await google.colab.output.renderOutput(dataTable, element);\n",
              "          const docLink = document.createElement('div');\n",
              "          docLink.innerHTML = docLinkHtml;\n",
              "          element.appendChild(docLink);\n",
              "        }\n",
              "      </script>\n",
              "    </div>\n",
              "  </div>\n",
              "  "
            ]
          },
          "metadata": {},
          "execution_count": 4
        }
      ]
    },
    {
      "cell_type": "code",
      "source": [
        "data['species']=data['species'].replace('Chinstrap',2)\n",
        "data['species']=data['species'].replace('Gentoo',1)\n",
        "data['species']=data['species'].replace('Adelie',0)\n",
        "data = data.drop('sex',axis=1)\n",
        "data = data.drop('island',axis=1)"
      ],
      "metadata": {
        "id": "6l-dBOkmL81V"
      },
      "execution_count": 5,
      "outputs": []
    },
    {
      "cell_type": "code",
      "source": [
        "data.info()"
      ],
      "metadata": {
        "colab": {
          "base_uri": "https://localhost:8080/"
        },
        "id": "mKIA5tZOL-Yd",
        "outputId": "7a7c0e93-8851-4b81-9c12-8c48b5947f71"
      },
      "execution_count": 6,
      "outputs": [
        {
          "output_type": "stream",
          "name": "stdout",
          "text": [
            "<class 'pandas.core.frame.DataFrame'>\n",
            "RangeIndex: 344 entries, 0 to 343\n",
            "Data columns (total 7 columns):\n",
            " #   Column             Non-Null Count  Dtype  \n",
            "---  ------             --------------  -----  \n",
            " 0   rowid              344 non-null    int64  \n",
            " 1   species            344 non-null    int64  \n",
            " 2   bill_length_mm     342 non-null    float64\n",
            " 3   bill_depth_mm      342 non-null    float64\n",
            " 4   flipper_length_mm  342 non-null    float64\n",
            " 5   body_mass_g        342 non-null    float64\n",
            " 6   year               344 non-null    int64  \n",
            "dtypes: float64(4), int64(3)\n",
            "memory usage: 18.9 KB\n"
          ]
        }
      ]
    },
    {
      "cell_type": "code",
      "source": [
        "data.isnull().sum()"
      ],
      "metadata": {
        "colab": {
          "base_uri": "https://localhost:8080/"
        },
        "id": "ds32wBfwMIlT",
        "outputId": "e910d5e8-5dfe-4c71-e1e2-331436524ba3"
      },
      "execution_count": 7,
      "outputs": [
        {
          "output_type": "execute_result",
          "data": {
            "text/plain": [
              "rowid                0\n",
              "species              0\n",
              "bill_length_mm       2\n",
              "bill_depth_mm        2\n",
              "flipper_length_mm    2\n",
              "body_mass_g          2\n",
              "year                 0\n",
              "dtype: int64"
            ]
          },
          "metadata": {},
          "execution_count": 7
        }
      ]
    },
    {
      "cell_type": "code",
      "source": [
        "data['bill_length_mm'].fillna(data['bill_length_mm'].mean(),inplace=True)\n",
        "data['bill_depth_mm'].fillna(data['bill_depth_mm'].mean(),inplace=True)\n",
        "data['flipper_length_mm'].fillna(data['flipper_length_mm'].mean(),inplace=True)\n",
        "data['body_mass_g'].fillna(data['body_mass_g'].mean(),inplace=True)\n",
        "     "
      ],
      "metadata": {
        "id": "8gQPjJj3MNBe"
      },
      "execution_count": 8,
      "outputs": []
    },
    {
      "cell_type": "code",
      "source": [
        "data.isnull().sum()"
      ],
      "metadata": {
        "colab": {
          "base_uri": "https://localhost:8080/"
        },
        "id": "Kea4nNwYMaID",
        "outputId": "179c0629-bee8-4c66-87a4-dd1b1a13bda1"
      },
      "execution_count": 9,
      "outputs": [
        {
          "output_type": "execute_result",
          "data": {
            "text/plain": [
              "rowid                0\n",
              "species              0\n",
              "bill_length_mm       0\n",
              "bill_depth_mm        0\n",
              "flipper_length_mm    0\n",
              "body_mass_g          0\n",
              "year                 0\n",
              "dtype: int64"
            ]
          },
          "metadata": {},
          "execution_count": 9
        }
      ]
    },
    {
      "cell_type": "code",
      "source": [
        "from sklearn.model_selection import train_test_split\n",
        "x = data.iloc[:,1:]\n",
        "y = data.iloc[:,1]\n"
      ],
      "metadata": {
        "id": "RKF3-taTMbPO"
      },
      "execution_count": 10,
      "outputs": []
    },
    {
      "cell_type": "code",
      "source": [
        "y = np.array(y).reshape(-1,1)\n",
        "x_train, x_test, y_train, y_test= train_test_split(x, y, test_size= 0.30, random_state=0)  \n"
      ],
      "metadata": {
        "id": "Ci8nfsu1MkYQ"
      },
      "execution_count": 11,
      "outputs": []
    },
    {
      "cell_type": "code",
      "source": [
        "from sklearn import preprocessing\n",
        "x = preprocessing.scale(x)\n",
        "     "
      ],
      "metadata": {
        "id": "XXeLw9d7Moy_"
      },
      "execution_count": 12,
      "outputs": []
    },
    {
      "cell_type": "code",
      "source": [
        "print(x_train.shape,y_train.shape)\n",
        "print(x_test.shape,y_test.shape)\n",
        "     "
      ],
      "metadata": {
        "colab": {
          "base_uri": "https://localhost:8080/"
        },
        "id": "n7AMSE4NMt54",
        "outputId": "94c122c1-6783-4410-aee7-bbe3997d7d0f"
      },
      "execution_count": 13,
      "outputs": [
        {
          "output_type": "stream",
          "name": "stdout",
          "text": [
            "(240, 6) (240, 1)\n",
            "(104, 6) (104, 1)\n"
          ]
        }
      ]
    },
    {
      "cell_type": "code",
      "source": [
        "model = LogisticRegression(C=0.5)\n",
        "model.fit(x_train,y_train)"
      ],
      "metadata": {
        "colab": {
          "base_uri": "https://localhost:8080/",
          "height": 268
        },
        "id": "9D67sTksMyNI",
        "outputId": "559ce437-3c8e-4c29-e385-2a7d9de6aadc"
      },
      "execution_count": 14,
      "outputs": [
        {
          "output_type": "stream",
          "name": "stderr",
          "text": [
            "/usr/local/lib/python3.10/dist-packages/sklearn/utils/validation.py:1143: DataConversionWarning: A column-vector y was passed when a 1d array was expected. Please change the shape of y to (n_samples, ), for example using ravel().\n",
            "  y = column_or_1d(y, warn=True)\n",
            "/usr/local/lib/python3.10/dist-packages/sklearn/linear_model/_logistic.py:458: ConvergenceWarning: lbfgs failed to converge (status=1):\n",
            "STOP: TOTAL NO. of ITERATIONS REACHED LIMIT.\n",
            "\n",
            "Increase the number of iterations (max_iter) or scale the data as shown in:\n",
            "    https://scikit-learn.org/stable/modules/preprocessing.html\n",
            "Please also refer to the documentation for alternative solver options:\n",
            "    https://scikit-learn.org/stable/modules/linear_model.html#logistic-regression\n",
            "  n_iter_i = _check_optimize_result(\n"
          ]
        },
        {
          "output_type": "execute_result",
          "data": {
            "text/plain": [
              "LogisticRegression(C=0.5)"
            ],
            "text/html": [
              "<style>#sk-container-id-1 {color: black;background-color: white;}#sk-container-id-1 pre{padding: 0;}#sk-container-id-1 div.sk-toggleable {background-color: white;}#sk-container-id-1 label.sk-toggleable__label {cursor: pointer;display: block;width: 100%;margin-bottom: 0;padding: 0.3em;box-sizing: border-box;text-align: center;}#sk-container-id-1 label.sk-toggleable__label-arrow:before {content: \"▸\";float: left;margin-right: 0.25em;color: #696969;}#sk-container-id-1 label.sk-toggleable__label-arrow:hover:before {color: black;}#sk-container-id-1 div.sk-estimator:hover label.sk-toggleable__label-arrow:before {color: black;}#sk-container-id-1 div.sk-toggleable__content {max-height: 0;max-width: 0;overflow: hidden;text-align: left;background-color: #f0f8ff;}#sk-container-id-1 div.sk-toggleable__content pre {margin: 0.2em;color: black;border-radius: 0.25em;background-color: #f0f8ff;}#sk-container-id-1 input.sk-toggleable__control:checked~div.sk-toggleable__content {max-height: 200px;max-width: 100%;overflow: auto;}#sk-container-id-1 input.sk-toggleable__control:checked~label.sk-toggleable__label-arrow:before {content: \"▾\";}#sk-container-id-1 div.sk-estimator input.sk-toggleable__control:checked~label.sk-toggleable__label {background-color: #d4ebff;}#sk-container-id-1 div.sk-label input.sk-toggleable__control:checked~label.sk-toggleable__label {background-color: #d4ebff;}#sk-container-id-1 input.sk-hidden--visually {border: 0;clip: rect(1px 1px 1px 1px);clip: rect(1px, 1px, 1px, 1px);height: 1px;margin: -1px;overflow: hidden;padding: 0;position: absolute;width: 1px;}#sk-container-id-1 div.sk-estimator {font-family: monospace;background-color: #f0f8ff;border: 1px dotted black;border-radius: 0.25em;box-sizing: border-box;margin-bottom: 0.5em;}#sk-container-id-1 div.sk-estimator:hover {background-color: #d4ebff;}#sk-container-id-1 div.sk-parallel-item::after {content: \"\";width: 100%;border-bottom: 1px solid gray;flex-grow: 1;}#sk-container-id-1 div.sk-label:hover label.sk-toggleable__label {background-color: #d4ebff;}#sk-container-id-1 div.sk-serial::before {content: \"\";position: absolute;border-left: 1px solid gray;box-sizing: border-box;top: 0;bottom: 0;left: 50%;z-index: 0;}#sk-container-id-1 div.sk-serial {display: flex;flex-direction: column;align-items: center;background-color: white;padding-right: 0.2em;padding-left: 0.2em;position: relative;}#sk-container-id-1 div.sk-item {position: relative;z-index: 1;}#sk-container-id-1 div.sk-parallel {display: flex;align-items: stretch;justify-content: center;background-color: white;position: relative;}#sk-container-id-1 div.sk-item::before, #sk-container-id-1 div.sk-parallel-item::before {content: \"\";position: absolute;border-left: 1px solid gray;box-sizing: border-box;top: 0;bottom: 0;left: 50%;z-index: -1;}#sk-container-id-1 div.sk-parallel-item {display: flex;flex-direction: column;z-index: 1;position: relative;background-color: white;}#sk-container-id-1 div.sk-parallel-item:first-child::after {align-self: flex-end;width: 50%;}#sk-container-id-1 div.sk-parallel-item:last-child::after {align-self: flex-start;width: 50%;}#sk-container-id-1 div.sk-parallel-item:only-child::after {width: 0;}#sk-container-id-1 div.sk-dashed-wrapped {border: 1px dashed gray;margin: 0 0.4em 0.5em 0.4em;box-sizing: border-box;padding-bottom: 0.4em;background-color: white;}#sk-container-id-1 div.sk-label label {font-family: monospace;font-weight: bold;display: inline-block;line-height: 1.2em;}#sk-container-id-1 div.sk-label-container {text-align: center;}#sk-container-id-1 div.sk-container {/* jupyter's `normalize.less` sets `[hidden] { display: none; }` but bootstrap.min.css set `[hidden] { display: none !important; }` so we also need the `!important` here to be able to override the default hidden behavior on the sphinx rendered scikit-learn.org. See: https://github.com/scikit-learn/scikit-learn/issues/21755 */display: inline-block !important;position: relative;}#sk-container-id-1 div.sk-text-repr-fallback {display: none;}</style><div id=\"sk-container-id-1\" class=\"sk-top-container\"><div class=\"sk-text-repr-fallback\"><pre>LogisticRegression(C=0.5)</pre><b>In a Jupyter environment, please rerun this cell to show the HTML representation or trust the notebook. <br />On GitHub, the HTML representation is unable to render, please try loading this page with nbviewer.org.</b></div><div class=\"sk-container\" hidden><div class=\"sk-item\"><div class=\"sk-estimator sk-toggleable\"><input class=\"sk-toggleable__control sk-hidden--visually\" id=\"sk-estimator-id-1\" type=\"checkbox\" checked><label for=\"sk-estimator-id-1\" class=\"sk-toggleable__label sk-toggleable__label-arrow\">LogisticRegression</label><div class=\"sk-toggleable__content\"><pre>LogisticRegression(C=0.5)</pre></div></div></div></div></div>"
            ]
          },
          "metadata": {},
          "execution_count": 14
        }
      ]
    },
    {
      "cell_type": "code",
      "source": [
        "model.classes_"
      ],
      "metadata": {
        "colab": {
          "base_uri": "https://localhost:8080/"
        },
        "id": "YR39EmB1M3Tp",
        "outputId": "8cd80022-696c-4a7b-aa5f-bb4e7694e2b4"
      },
      "execution_count": 15,
      "outputs": [
        {
          "output_type": "execute_result",
          "data": {
            "text/plain": [
              "array([0, 1, 2])"
            ]
          },
          "metadata": {},
          "execution_count": 15
        }
      ]
    },
    {
      "cell_type": "code",
      "source": [
        "model.intercept_"
      ],
      "metadata": {
        "colab": {
          "base_uri": "https://localhost:8080/"
        },
        "id": "JV1lSa0MM66I",
        "outputId": "310cac8d-c806-4bfd-870d-2dea9ce73006"
      },
      "execution_count": 16,
      "outputs": [
        {
          "output_type": "execute_result",
          "data": {
            "text/plain": [
              "array([ 6.37418664e-06, -1.80312488e-05,  1.16570622e-05])"
            ]
          },
          "metadata": {},
          "execution_count": 16
        }
      ]
    },
    {
      "cell_type": "code",
      "source": [
        "model.coef_"
      ],
      "metadata": {
        "colab": {
          "base_uri": "https://localhost:8080/"
        },
        "id": "8wpIIDXwM_nM",
        "outputId": "0ade8759-7f51-442e-ab7c-2d269d2b85e9"
      },
      "execution_count": 17,
      "outputs": [
        {
          "output_type": "execute_result",
          "data": {
            "text/plain": [
              "array([[-2.16113599e-01, -7.45282676e-01,  1.51838646e-01,\n",
              "        -1.58756511e-01, -2.38873859e-04,  3.25622268e-02],\n",
              "       [ 8.54219119e-03, -2.73459722e-02, -2.28506505e-01,\n",
              "         3.90812813e-01,  6.29184394e-03, -5.04570137e-02],\n",
              "       [ 2.07571408e-01,  7.72628648e-01,  7.66678595e-02,\n",
              "        -2.32056302e-01, -6.05297008e-03,  1.78947869e-02]])"
            ]
          },
          "metadata": {},
          "execution_count": 17
        }
      ]
    },
    {
      "cell_type": "code",
      "source": [
        "model.predict_proba(x_train)"
      ],
      "metadata": {
        "colab": {
          "base_uri": "https://localhost:8080/"
        },
        "id": "A2OaoESPNFpX",
        "outputId": "a377a019-7ade-4341-db0c-0b6efbf86654"
      },
      "execution_count": 18,
      "outputs": [
        {
          "output_type": "execute_result",
          "data": {
            "text/plain": [
              "array([[2.72702347e-12, 1.00000000e+00, 9.91323392e-15],\n",
              "       [9.22065915e-01, 2.29358403e-02, 5.49982445e-02],\n",
              "       [1.14679935e-04, 9.99854634e-01, 3.06863569e-05],\n",
              "       [1.18432500e-02, 1.40801155e-07, 9.88156609e-01],\n",
              "       [3.06344238e-12, 1.00000000e+00, 2.78986951e-14],\n",
              "       [5.68333962e-06, 9.99994096e-01, 2.20915761e-07],\n",
              "       [3.50716817e-04, 9.99647108e-01, 2.17522385e-06],\n",
              "       [9.96415362e-01, 5.67054668e-10, 3.58463784e-03],\n",
              "       [9.98469381e-01, 1.54434963e-08, 1.53060382e-03],\n",
              "       [9.92880944e-01, 1.74986585e-08, 7.11903891e-03],\n",
              "       [9.56893223e-08, 4.17099589e-05, 9.99958194e-01],\n",
              "       [9.42385893e-01, 7.30106973e-11, 5.76141065e-02],\n",
              "       [9.99887076e-01, 1.41709807e-08, 1.12909969e-04],\n",
              "       [2.01931852e-12, 1.00000000e+00, 2.62492091e-14],\n",
              "       [9.99741653e-01, 1.69570162e-04, 8.87769849e-05],\n",
              "       [9.58854980e-01, 3.01529406e-07, 4.11447185e-02],\n",
              "       [6.54287541e-02, 9.33108181e-01, 1.46306471e-03],\n",
              "       [9.99753577e-01, 2.45939209e-04, 4.84159354e-07],\n",
              "       [1.19021983e-04, 9.99878037e-01, 2.94135238e-06],\n",
              "       [9.99970129e-01, 1.88237391e-05, 1.10475525e-05],\n",
              "       [1.06600754e-02, 9.38039180e-01, 5.13007447e-02],\n",
              "       [2.67103823e-05, 9.99971796e-01, 1.49337691e-06],\n",
              "       [2.42003697e-05, 2.99406320e-04, 9.99676393e-01],\n",
              "       [2.21546265e-02, 9.63041783e-01, 1.48035907e-02],\n",
              "       [2.67480675e-10, 9.99999995e-01, 4.37837867e-09],\n",
              "       [9.90428815e-01, 6.89173520e-12, 9.57118486e-03],\n",
              "       [8.49856697e-01, 2.49300678e-10, 1.50143302e-01],\n",
              "       [2.59662925e-09, 9.99999997e-01, 7.06220316e-11],\n",
              "       [4.79483992e-01, 1.70006193e-03, 5.18815946e-01],\n",
              "       [9.70008161e-05, 9.18479913e-08, 9.99902907e-01],\n",
              "       [5.44478079e-10, 9.99999999e-01, 8.41342745e-11],\n",
              "       [9.99987952e-01, 1.23678349e-09, 1.20466595e-05],\n",
              "       [9.96098588e-01, 2.02677044e-09, 3.90141001e-03],\n",
              "       [1.75407372e-05, 9.99982450e-01, 9.51874985e-09],\n",
              "       [9.97710688e-07, 3.77749390e-08, 9.99998965e-01],\n",
              "       [8.34776343e-01, 8.68535586e-10, 1.65223656e-01],\n",
              "       [1.02574888e-02, 9.89001811e-01, 7.40700452e-04],\n",
              "       [3.15033087e-08, 9.99999968e-01, 6.42953384e-11],\n",
              "       [1.84801085e-03, 1.12202359e-03, 9.97029966e-01],\n",
              "       [2.59609695e-13, 1.00000000e+00, 4.99127323e-11],\n",
              "       [5.71802900e-04, 9.99404974e-01, 2.32229597e-05],\n",
              "       [3.51524554e-04, 9.99644842e-01, 3.63344388e-06],\n",
              "       [1.02107522e-04, 9.99891066e-01, 6.82668086e-06],\n",
              "       [4.33203742e-08, 9.99999954e-01, 2.40996236e-09],\n",
              "       [9.99946929e-01, 8.42935282e-06, 4.46419022e-05],\n",
              "       [9.45467431e-05, 1.87724855e-05, 9.99886681e-01],\n",
              "       [7.78070861e-06, 9.99991663e-01, 5.56241510e-07],\n",
              "       [3.09368750e-06, 9.99996845e-01, 6.11837230e-08],\n",
              "       [1.87973490e-09, 9.99999996e-01, 2.61029508e-09],\n",
              "       [9.96119734e-01, 1.10872596e-11, 3.88026579e-03],\n",
              "       [3.77925242e-08, 9.99999962e-01, 3.32758635e-11],\n",
              "       [5.79797672e-01, 3.73988824e-01, 4.62135041e-02],\n",
              "       [9.99962259e-01, 9.42186842e-07, 3.67988557e-05],\n",
              "       [9.24621965e-01, 1.07213975e-03, 7.43058949e-02],\n",
              "       [1.83488309e-12, 1.00000000e+00, 1.27363503e-12],\n",
              "       [2.29707607e-02, 9.66918236e-01, 1.01110033e-02],\n",
              "       [9.99989065e-01, 4.69000830e-12, 1.09345632e-05],\n",
              "       [5.00575520e-05, 9.99949544e-01, 3.98705319e-07],\n",
              "       [9.89345596e-01, 2.85475754e-05, 1.06258568e-02],\n",
              "       [1.86245883e-01, 2.88439284e-05, 8.13725273e-01],\n",
              "       [9.99235802e-01, 2.23978370e-07, 7.63973924e-04],\n",
              "       [1.56708768e-05, 9.99984317e-01, 1.24376868e-08],\n",
              "       [1.70164890e-04, 8.01286924e-04, 9.99028548e-01],\n",
              "       [1.96710505e-01, 3.82127387e-09, 8.03289491e-01],\n",
              "       [6.30878331e-06, 9.99993650e-01, 4.07229375e-08],\n",
              "       [3.95276493e-02, 9.60253698e-01, 2.18653063e-04],\n",
              "       [3.03075106e-07, 9.99999695e-01, 1.96234062e-09],\n",
              "       [1.96947894e-06, 9.99998015e-01, 1.56462619e-08],\n",
              "       [9.99999700e-01, 2.07967746e-07, 9.23293440e-08],\n",
              "       [1.00454101e-04, 9.83770276e-08, 9.99899448e-01],\n",
              "       [9.99949132e-01, 3.16167276e-10, 5.08676091e-05],\n",
              "       [8.36093284e-02, 9.16100611e-01, 2.90060498e-04],\n",
              "       [1.47978388e-03, 2.03984064e-02, 9.78121810e-01],\n",
              "       [9.99927383e-01, 6.70044976e-06, 6.59161417e-05],\n",
              "       [9.99917179e-01, 1.15392115e-07, 8.27052155e-05],\n",
              "       [9.30374389e-04, 9.98814258e-01, 2.55367224e-04],\n",
              "       [8.85150096e-04, 9.98946564e-01, 1.68285928e-04],\n",
              "       [9.98460357e-01, 7.79971433e-08, 1.53956519e-03],\n",
              "       [9.92155593e-01, 3.04250226e-04, 7.54015641e-03],\n",
              "       [9.71514028e-01, 2.79612415e-02, 5.24730904e-04],\n",
              "       [1.18587339e-10, 1.00000000e+00, 1.47700647e-12],\n",
              "       [5.07778023e-07, 9.99999491e-01, 1.70320092e-09],\n",
              "       [9.99905196e-01, 1.27569526e-05, 8.20466708e-05],\n",
              "       [9.99916152e-01, 5.52351029e-09, 8.38423278e-05],\n",
              "       [9.99787637e-01, 1.78354897e-08, 2.12345089e-04],\n",
              "       [6.54725353e-10, 9.99999999e-01, 2.22667004e-15],\n",
              "       [9.99628519e-01, 1.03457353e-04, 2.68024000e-04],\n",
              "       [9.97805739e-01, 5.75933380e-07, 2.19368513e-03],\n",
              "       [1.08550865e-05, 9.99988624e-01, 5.20442104e-07],\n",
              "       [4.60363790e-04, 9.93446948e-01, 6.09268784e-03],\n",
              "       [1.97690017e-03, 2.65071168e-08, 9.98023073e-01],\n",
              "       [8.00225053e-13, 1.00000000e+00, 1.93274331e-15],\n",
              "       [6.18258152e-04, 9.99295783e-01, 8.59591409e-05],\n",
              "       [9.51096824e-06, 7.18520782e-08, 9.99990417e-01],\n",
              "       [9.99126233e-01, 2.61787263e-12, 8.73767228e-04],\n",
              "       [9.64024964e-01, 1.39587111e-08, 3.59750223e-02],\n",
              "       [9.99803262e-01, 3.43615156e-08, 1.96703595e-04],\n",
              "       [9.99931421e-01, 3.82356703e-08, 6.85402993e-05],\n",
              "       [2.24353032e-06, 9.99997731e-01, 2.58388670e-08],\n",
              "       [9.40143685e-01, 2.20541207e-02, 3.78021941e-02],\n",
              "       [1.01024987e-10, 1.00000000e+00, 1.64989022e-11],\n",
              "       [9.99100045e-01, 8.45861662e-05, 8.15368638e-04],\n",
              "       [9.99194348e-01, 4.30001478e-10, 8.05652004e-04],\n",
              "       [9.35750616e-01, 7.38819295e-12, 6.42493843e-02],\n",
              "       [9.99975242e-01, 9.41469208e-10, 2.47573654e-05],\n",
              "       [2.53297959e-04, 9.99746688e-01, 1.42156531e-08],\n",
              "       [7.38660687e-04, 9.99259810e-01, 1.52891574e-06],\n",
              "       [4.95910743e-06, 1.14004743e-08, 9.99995029e-01],\n",
              "       [5.07337441e-06, 2.06489120e-08, 9.99994906e-01],\n",
              "       [1.13249107e-11, 1.00000000e+00, 9.24925460e-13],\n",
              "       [4.67240565e-01, 2.06044221e-04, 5.32553391e-01],\n",
              "       [7.36849822e-11, 3.45744352e-14, 1.00000000e+00],\n",
              "       [7.77775140e-03, 1.19999749e-03, 9.91022251e-01],\n",
              "       [1.47090999e-08, 9.99999985e-01, 8.41746622e-11],\n",
              "       [1.71840186e-04, 1.05857552e-01, 8.93970608e-01],\n",
              "       [9.99977096e-01, 5.42667423e-11, 2.29037255e-05],\n",
              "       [9.99845994e-01, 1.12137460e-06, 1.52884748e-04],\n",
              "       [9.43110070e-01, 9.20692552e-08, 5.68898378e-02],\n",
              "       [9.99686398e-01, 1.05134236e-10, 3.13602242e-04],\n",
              "       [9.88896287e-01, 4.63491115e-10, 1.11037125e-02],\n",
              "       [1.87759377e-02, 2.34185301e-06, 9.81221720e-01],\n",
              "       [9.99992771e-01, 6.68502873e-09, 7.22187183e-06],\n",
              "       [9.97905194e-01, 2.24674452e-10, 2.09480550e-03],\n",
              "       [9.99868702e-01, 9.62590047e-08, 1.31201724e-04],\n",
              "       [3.45188397e-05, 2.31107188e-05, 9.99942370e-01],\n",
              "       [9.94139963e-01, 3.32218696e-13, 5.86003704e-03],\n",
              "       [9.97143830e-01, 8.35027668e-06, 2.84781933e-03],\n",
              "       [9.99995228e-01, 4.76395192e-06, 8.36420074e-09],\n",
              "       [9.71860533e-10, 9.99999999e-01, 3.30697231e-11],\n",
              "       [9.90590171e-01, 2.19623189e-09, 9.40982690e-03],\n",
              "       [7.97502860e-07, 9.99999201e-01, 1.48278904e-09],\n",
              "       [6.88277246e-06, 9.99992676e-01, 4.40793272e-07],\n",
              "       [6.21547567e-11, 1.00000000e+00, 4.01796717e-14],\n",
              "       [1.77489454e-07, 6.74274464e-13, 9.99999823e-01],\n",
              "       [8.56646599e-06, 2.56852478e-07, 9.99991177e-01],\n",
              "       [2.23047236e-03, 2.74076461e-08, 9.97769500e-01],\n",
              "       [9.94870662e-01, 4.15889142e-04, 4.71344931e-03],\n",
              "       [7.57775575e-06, 9.99990143e-01, 2.27910903e-06],\n",
              "       [1.80735209e-03, 9.98190645e-01, 2.00283859e-06],\n",
              "       [9.99710729e-01, 7.63210681e-10, 2.89270425e-04],\n",
              "       [2.00396894e-02, 9.79958913e-01, 1.39788024e-06],\n",
              "       [9.54398801e-03, 5.60006828e-09, 9.90456006e-01],\n",
              "       [9.96430244e-01, 2.45764700e-09, 3.56975305e-03],\n",
              "       [1.19607606e-08, 9.99999988e-01, 1.60839718e-10],\n",
              "       [9.99912166e-01, 8.25759297e-09, 8.78258734e-05],\n",
              "       [3.07464677e-11, 1.00000000e+00, 4.04372572e-13],\n",
              "       [2.09311266e-08, 9.99999975e-01, 3.90039266e-09],\n",
              "       [9.78307252e-01, 2.42332074e-03, 1.92694273e-02],\n",
              "       [9.99494062e-01, 1.38624727e-07, 5.05799785e-04],\n",
              "       [9.99619205e-01, 1.49558903e-10, 3.80794868e-04],\n",
              "       [9.98590388e-01, 3.76561257e-10, 1.40961162e-03],\n",
              "       [2.18992257e-05, 9.99978086e-01, 1.45155188e-08],\n",
              "       [2.95062320e-06, 9.99997049e-01, 8.26108729e-10],\n",
              "       [2.25365950e-05, 7.41518209e-05, 9.99903312e-01],\n",
              "       [9.99967291e-01, 9.38069393e-15, 3.27085732e-05],\n",
              "       [3.69311066e-03, 9.95902683e-01, 4.04206218e-04],\n",
              "       [8.18468534e-06, 9.99990142e-01, 1.67289834e-06],\n",
              "       [9.99833085e-01, 1.05463495e-10, 1.66915310e-04],\n",
              "       [2.50489193e-03, 3.78245877e-02, 9.59670520e-01],\n",
              "       [9.00780885e-01, 9.91271058e-02, 9.20090779e-05],\n",
              "       [5.69177719e-04, 1.24096252e-08, 9.99430810e-01],\n",
              "       [6.59573365e-12, 1.00000000e+00, 1.63378267e-15],\n",
              "       [9.97576091e-01, 2.03429205e-03, 3.89616546e-04],\n",
              "       [9.99959891e-01, 1.09447727e-09, 4.01082590e-05],\n",
              "       [9.59157967e-07, 9.99999040e-01, 6.05782888e-10],\n",
              "       [2.78351743e-12, 1.00000000e+00, 2.43510403e-15],\n",
              "       [9.99972783e-01, 1.50312657e-08, 2.72016711e-05],\n",
              "       [9.89545786e-01, 2.27313425e-07, 1.04539871e-02],\n",
              "       [2.68558048e-04, 9.99046187e-01, 6.85254585e-04],\n",
              "       [5.68950400e-01, 3.41775621e-06, 4.31046182e-01],\n",
              "       [5.20557070e-01, 1.70694409e-09, 4.79442928e-01],\n",
              "       [3.72796992e-04, 6.07665560e-02, 9.38860647e-01],\n",
              "       [2.32564341e-07, 9.99998655e-01, 1.11282876e-06],\n",
              "       [9.26413158e-09, 9.99999990e-01, 3.05975059e-10],\n",
              "       [9.99524011e-01, 2.39808717e-09, 4.75986966e-04],\n",
              "       [9.99814408e-01, 1.71574913e-07, 1.85419998e-04],\n",
              "       [1.56681856e-03, 3.60103233e-09, 9.98433178e-01],\n",
              "       [4.75086910e-05, 3.62520679e-02, 9.63700423e-01],\n",
              "       [9.65441724e-01, 3.43525341e-02, 2.05741463e-04],\n",
              "       [9.99982592e-01, 2.23573189e-09, 1.74055209e-05],\n",
              "       [2.05192905e-14, 1.00000000e+00, 2.54916390e-13],\n",
              "       [8.40832183e-01, 5.93129071e-09, 1.59167811e-01],\n",
              "       [9.95841411e-01, 9.90082110e-07, 4.15759896e-03],\n",
              "       [3.08602741e-07, 9.99999691e-01, 2.95193106e-10],\n",
              "       [6.85576789e-03, 1.74298504e-07, 9.93144058e-01],\n",
              "       [9.99606823e-01, 9.83004377e-12, 3.93176845e-04],\n",
              "       [9.91454199e-01, 6.35954958e-10, 8.54579999e-03],\n",
              "       [8.33822536e-11, 1.00000000e+00, 2.71605817e-12],\n",
              "       [4.83971374e-06, 3.68561063e-08, 9.99995123e-01],\n",
              "       [9.98108811e-01, 5.40142716e-12, 1.89118893e-03],\n",
              "       [9.94886181e-01, 4.96511883e-04, 4.61730761e-03],\n",
              "       [4.32710591e-01, 1.74792287e-09, 5.67289407e-01],\n",
              "       [9.63980608e-01, 1.32705584e-09, 3.60193906e-02],\n",
              "       [6.15584368e-03, 3.95459906e-08, 9.93844117e-01],\n",
              "       [9.85640092e-01, 2.30516762e-14, 1.43599081e-02],\n",
              "       [1.11382129e-02, 9.88857040e-01, 4.74715985e-06],\n",
              "       [2.24311511e-08, 9.99999977e-01, 4.33009978e-10],\n",
              "       [9.96556632e-01, 5.84452809e-04, 2.85891477e-03],\n",
              "       [2.97528411e-04, 9.99698119e-01, 4.35266993e-06],\n",
              "       [1.73268606e-04, 9.99817686e-01, 9.04519638e-06],\n",
              "       [9.99956996e-01, 6.20211458e-11, 4.30039942e-05],\n",
              "       [9.77794670e-01, 1.71588341e-09, 2.22053278e-02],\n",
              "       [9.99044740e-01, 1.65842420e-04, 7.89417246e-04],\n",
              "       [2.72208596e-16, 1.00000000e+00, 9.34796968e-13],\n",
              "       [1.13612225e-02, 8.67591700e-07, 9.88637910e-01],\n",
              "       [1.69464862e-03, 3.22100157e-09, 9.98305348e-01],\n",
              "       [6.88424840e-03, 1.69005863e-04, 9.92946746e-01],\n",
              "       [9.99874818e-01, 5.13338323e-11, 1.25182172e-04],\n",
              "       [7.83218426e-06, 1.53751050e-07, 9.99992014e-01],\n",
              "       [5.07339700e-03, 1.00281153e-08, 9.94926593e-01],\n",
              "       [4.02592618e-06, 9.99995959e-01, 1.51187567e-08],\n",
              "       [9.60065047e-01, 2.83274305e-05, 3.99066253e-02],\n",
              "       [2.05156958e-05, 9.99979479e-01, 5.16213495e-09],\n",
              "       [1.41819202e-11, 1.00000000e+00, 3.14956762e-11],\n",
              "       [9.83334547e-01, 1.53987242e-04, 1.65114654e-02],\n",
              "       [2.99827485e-12, 1.00000000e+00, 1.17999348e-12],\n",
              "       [9.96468195e-01, 9.02402943e-07, 3.53090268e-03],\n",
              "       [9.99997906e-01, 8.55950525e-10, 2.09358366e-06],\n",
              "       [1.42989714e-08, 9.99999986e-01, 2.70632738e-11],\n",
              "       [2.17918555e-04, 3.90069839e-04, 9.99392012e-01],\n",
              "       [6.97135605e-04, 9.98962118e-01, 3.40746824e-04],\n",
              "       [4.11458127e-07, 2.23732450e-09, 9.99999586e-01],\n",
              "       [9.99982021e-01, 9.93754015e-07, 1.69852576e-05],\n",
              "       [4.07190925e-11, 1.00000000e+00, 4.19385722e-13],\n",
              "       [9.48544610e-06, 1.37667578e-12, 9.99990515e-01],\n",
              "       [9.99930779e-01, 4.84156840e-08, 6.91730559e-05],\n",
              "       [9.99999658e-01, 2.93371264e-10, 3.42108956e-07],\n",
              "       [9.99881733e-01, 1.17827023e-09, 1.18265523e-04],\n",
              "       [3.26982435e-06, 1.27634677e-09, 9.99996729e-01],\n",
              "       [8.57743996e-07, 9.99999092e-01, 5.06634458e-08],\n",
              "       [1.51038197e-04, 1.66978696e-06, 9.99847292e-01],\n",
              "       [8.10675786e-11, 1.00000000e+00, 7.62921269e-12],\n",
              "       [9.97095040e-01, 6.27801047e-06, 2.89868177e-03],\n",
              "       [1.93698927e-06, 9.99987643e-01, 1.04200712e-05],\n",
              "       [3.44401061e-10, 9.99999999e-01, 4.49035980e-10],\n",
              "       [2.28226838e-03, 9.01193267e-01, 9.65244647e-02],\n",
              "       [7.00440997e-01, 2.77447049e-01, 2.21119536e-02],\n",
              "       [9.99980962e-01, 1.02997209e-06, 1.80082458e-05],\n",
              "       [9.87310361e-01, 2.30964284e-13, 1.26896394e-02],\n",
              "       [5.97834724e-10, 9.99999999e-01, 2.94871964e-11]])"
            ]
          },
          "metadata": {},
          "execution_count": 18
        }
      ]
    },
    {
      "cell_type": "code",
      "source": [
        "p=model.predict(x_train)"
      ],
      "metadata": {
        "id": "bLW3Cg4-NKfh"
      },
      "execution_count": 19,
      "outputs": []
    },
    {
      "cell_type": "code",
      "source": [
        "model.score(x_train,y_train)"
      ],
      "metadata": {
        "colab": {
          "base_uri": "https://localhost:8080/"
        },
        "id": "xIzyvsUjNOHf",
        "outputId": "e7756c91-2bb5-4235-e9de-f9f86829083d"
      },
      "execution_count": 20,
      "outputs": [
        {
          "output_type": "execute_result",
          "data": {
            "text/plain": [
              "0.975"
            ]
          },
          "metadata": {},
          "execution_count": 20
        }
      ]
    },
    {
      "cell_type": "code",
      "source": [
        "m=confusion_matrix(y_train,p)\n",
        "m"
      ],
      "metadata": {
        "colab": {
          "base_uri": "https://localhost:8080/"
        },
        "id": "JvDKOWUbNQz4",
        "outputId": "45e80326-822a-4abd-8c02-abba2a824715"
      },
      "execution_count": 21,
      "outputs": [
        {
          "output_type": "execute_result",
          "data": {
            "text/plain": [
              "array([[99,  0,  2],\n",
              "       [ 2, 90,  0],\n",
              "       [ 1,  1, 45]])"
            ]
          },
          "metadata": {},
          "execution_count": 21
        }
      ]
    },
    {
      "cell_type": "code",
      "source": [
        "print(classification_report(y_train,p))"
      ],
      "metadata": {
        "colab": {
          "base_uri": "https://localhost:8080/"
        },
        "id": "S-cj-l5DNTCQ",
        "outputId": "b1d5b46d-9f54-4da1-919a-6eb33028242e"
      },
      "execution_count": 22,
      "outputs": [
        {
          "output_type": "stream",
          "name": "stdout",
          "text": [
            "              precision    recall  f1-score   support\n",
            "\n",
            "           0       0.97      0.98      0.98       101\n",
            "           1       0.99      0.98      0.98        92\n",
            "           2       0.96      0.96      0.96        47\n",
            "\n",
            "    accuracy                           0.97       240\n",
            "   macro avg       0.97      0.97      0.97       240\n",
            "weighted avg       0.98      0.97      0.98       240\n",
            "\n"
          ]
        }
      ]
    },
    {
      "cell_type": "code",
      "source": [
        "pre=model.predict(x_test)"
      ],
      "metadata": {
        "id": "yXjIXW8JNVsU"
      },
      "execution_count": 23,
      "outputs": []
    },
    {
      "cell_type": "code",
      "source": [
        "m=confusion_matrix(y_test,pre)\n",
        "m\n"
      ],
      "metadata": {
        "colab": {
          "base_uri": "https://localhost:8080/"
        },
        "id": "tt19gKVMNa6Q",
        "outputId": "68b1e401-b6c2-4474-8f92-955324141127"
      },
      "execution_count": 24,
      "outputs": [
        {
          "output_type": "execute_result",
          "data": {
            "text/plain": [
              "array([[51,  0,  0],\n",
              "       [ 0, 32,  0],\n",
              "       [ 0,  1, 20]])"
            ]
          },
          "metadata": {},
          "execution_count": 24
        }
      ]
    },
    {
      "cell_type": "code",
      "source": [
        "model.score(x_test,y_test)"
      ],
      "metadata": {
        "colab": {
          "base_uri": "https://localhost:8080/"
        },
        "id": "Z-m6prFRNfDB",
        "outputId": "3f58c51e-fba2-4629-9b9f-8eefe61848e7"
      },
      "execution_count": 25,
      "outputs": [
        {
          "output_type": "execute_result",
          "data": {
            "text/plain": [
              "0.9903846153846154"
            ]
          },
          "metadata": {},
          "execution_count": 25
        }
      ]
    },
    {
      "cell_type": "code",
      "source": [
        "print(classification_report(y_test,pre))"
      ],
      "metadata": {
        "colab": {
          "base_uri": "https://localhost:8080/"
        },
        "id": "8uTREZAPNi_W",
        "outputId": "8dd1170b-0e20-4109-8333-6c5068181f36"
      },
      "execution_count": 26,
      "outputs": [
        {
          "output_type": "stream",
          "name": "stdout",
          "text": [
            "              precision    recall  f1-score   support\n",
            "\n",
            "           0       1.00      1.00      1.00        51\n",
            "           1       0.97      1.00      0.98        32\n",
            "           2       1.00      0.95      0.98        21\n",
            "\n",
            "    accuracy                           0.99       104\n",
            "   macro avg       0.99      0.98      0.99       104\n",
            "weighted avg       0.99      0.99      0.99       104\n",
            "\n"
          ]
        }
      ]
    },
    {
      "cell_type": "code",
      "source": [],
      "metadata": {
        "id": "1N1LFpx1NmhV"
      },
      "execution_count": null,
      "outputs": []
    }
  ]
}